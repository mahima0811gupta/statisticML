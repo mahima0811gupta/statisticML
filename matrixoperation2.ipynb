{
  "nbformat": 4,
  "nbformat_minor": 0,
  "metadata": {
    "colab": {
      "provenance": [],
      "authorship_tag": "ABX9TyOIZbcKJL4JnbRiVZZclt7O",
      "include_colab_link": true
    },
    "kernelspec": {
      "name": "python3",
      "display_name": "Python 3"
    },
    "language_info": {
      "name": "python"
    }
  },
  "cells": [
    {
      "cell_type": "markdown",
      "metadata": {
        "id": "view-in-github",
        "colab_type": "text"
      },
      "source": [
        "<a href=\"https://colab.research.google.com/github/mahima0811gupta/statisticML/blob/main/matrixoperation2.ipynb\" target=\"_parent\"><img src=\"https://colab.research.google.com/assets/colab-badge.svg\" alt=\"Open In Colab\"/></a>"
      ]
    },
    {
      "cell_type": "code",
      "execution_count": null,
      "metadata": {
        "id": "4yxzFxJkL62a"
      },
      "outputs": [],
      "source": [
        "import numpy as np"
      ]
    },
    {
      "cell_type": "markdown",
      "source": [
        "Addition"
      ],
      "metadata": {
        "id": "Y09i6LQrNaLp"
      }
    },
    {
      "cell_type": "code",
      "source": [
        "A=np.array([[2,3],[4,5]])\n",
        "B=np.array([[5,3],[5,6]])\n",
        "\n",
        "sum=A+B\n",
        "print(sum)\n"
      ],
      "metadata": {
        "colab": {
          "base_uri": "https://localhost:8080/"
        },
        "id": "aT5OqOG-NRxw",
        "outputId": "8c730485-a28f-4d1d-ae7f-e9410e2342d2"
      },
      "execution_count": null,
      "outputs": [
        {
          "output_type": "stream",
          "name": "stdout",
          "text": [
            "[[ 7  6]\n",
            " [ 9 11]]\n"
          ]
        }
      ]
    },
    {
      "cell_type": "code",
      "source": [
        "matrix_1=np.random.randint(100,size=(3,3))\n",
        "matrix_2=np.random.randint(100,size=(3,3))\n",
        "sum=np.add(matrix_1,matrix_2)\n",
        "print(sum)"
      ],
      "metadata": {
        "colab": {
          "base_uri": "https://localhost:8080/"
        },
        "id": "LM2O4e-fN0WY",
        "outputId": "0dbc350a-a56a-477c-b51f-556dcae2c019"
      },
      "execution_count": null,
      "outputs": [
        {
          "output_type": "stream",
          "name": "stdout",
          "text": [
            "[[ 80  49 102]\n",
            " [ 69  42  65]\n",
            " [157 126  74]]\n"
          ]
        }
      ]
    },
    {
      "cell_type": "markdown",
      "source": [
        "Substraction"
      ],
      "metadata": {
        "id": "ucibU5j4Oy-w"
      }
    },
    {
      "cell_type": "code",
      "source": [
        "A=np.array([[4,7],[6,5]])\n",
        "B=np.array([[2,7],[1,5]])\n",
        "sub=A-B\n",
        "print(sub)\n"
      ],
      "metadata": {
        "colab": {
          "base_uri": "https://localhost:8080/"
        },
        "id": "3myX1CdeObjT",
        "outputId": "15c985c5-2a18-4dca-fb6e-ba4fc851955e"
      },
      "execution_count": null,
      "outputs": [
        {
          "output_type": "stream",
          "name": "stdout",
          "text": [
            "[[2 0]\n",
            " [5 0]]\n"
          ]
        }
      ]
    },
    {
      "cell_type": "code",
      "source": [
        "matrix_1=np.random.randint(100,size=(3,3))\n",
        "matrix_2=np.random.randint(100,size=(3,3))\n",
        "subtract=np.subtract(matrix_1,matrix_2)\n",
        "print(subtract)"
      ],
      "metadata": {
        "colab": {
          "base_uri": "https://localhost:8080/"
        },
        "id": "GJtvwR5yPLOM",
        "outputId": "5de1acb2-b70e-4b12-90c1-d2b74d7c064a"
      },
      "execution_count": null,
      "outputs": [
        {
          "output_type": "stream",
          "name": "stdout",
          "text": [
            "[[ 46  31  48]\n",
            " [-91   3 -18]\n",
            " [ 17  -8 -68]]\n"
          ]
        }
      ]
    },
    {
      "cell_type": "markdown",
      "source": [
        "Multiplying by a matrix by a scalar"
      ],
      "metadata": {
        "id": "xdD-OJIhPyLa"
      }
    },
    {
      "cell_type": "code",
      "source": [
        "x = 5\n",
        "y = np.random.randint(10, size=(4,4))\n",
        "print(y)"
      ],
      "metadata": {
        "colab": {
          "base_uri": "https://localhost:8080/"
        },
        "id": "aeq7EQBbP24J",
        "outputId": "c4d9c2db-0857-4e42-abcf-256295807dad"
      },
      "execution_count": null,
      "outputs": [
        {
          "output_type": "stream",
          "name": "stdout",
          "text": [
            "[[3 9 9 7]\n",
            " [9 9 9 3]\n",
            " [5 5 3 6]\n",
            " [2 0 4 1]]\n"
          ]
        }
      ]
    },
    {
      "cell_type": "code",
      "source": [
        "product = np.multiply(x,y)\n",
        "print(product)"
      ],
      "metadata": {
        "colab": {
          "base_uri": "https://localhost:8080/"
        },
        "id": "6RaYN63_QQ3a",
        "outputId": "23e1fb15-d0bd-4205-fb66-0dd0028b1006"
      },
      "execution_count": null,
      "outputs": [
        {
          "output_type": "stream",
          "name": "stdout",
          "text": [
            "[[15 45 45 35]\n",
            " [45 45 45 15]\n",
            " [25 25 15 30]\n",
            " [10  0 20  5]]\n"
          ]
        }
      ]
    },
    {
      "cell_type": "markdown",
      "source": [
        "Multiplying 2 Matrices\n"
      ],
      "metadata": {
        "id": "ppk7IXbNQW-Y"
      }
    },
    {
      "cell_type": "code",
      "source": [
        "matrix_3 = np.random.randint(5, size=(3,3))\n",
        "matrix_4 = np.random.randint(5, size=(3,4))\n",
        "print(matrix_3)\n",
        "print(matrix_4)\n",
        "product = np.dot(matrix_3, matrix_4)\n",
        "print(product)\n"
      ],
      "metadata": {
        "colab": {
          "base_uri": "https://localhost:8080/"
        },
        "id": "4rX1ABSAQVgw",
        "outputId": "6d3570ab-d81b-42e9-89be-9c097d21ba8f"
      },
      "execution_count": null,
      "outputs": [
        {
          "output_type": "stream",
          "name": "stdout",
          "text": [
            "[[4 2 3]\n",
            " [1 4 4]\n",
            " [3 3 4]]\n",
            "[[2 2 4 0]\n",
            " [1 2 4 1]\n",
            " [2 2 0 1]]\n",
            "[[16 18 24  5]\n",
            " [14 18 20  8]\n",
            " [17 20 24  7]]\n"
          ]
        }
      ]
    },
    {
      "cell_type": "code",
      "source": [],
      "metadata": {
        "id": "Nmn7t8GaQpXV"
      },
      "execution_count": null,
      "outputs": []
    }
  ]
}